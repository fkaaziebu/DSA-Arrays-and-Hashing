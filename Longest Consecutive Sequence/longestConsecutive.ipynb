{
 "cells": [
  {
   "cell_type": "code",
   "execution_count": null,
   "metadata": {},
   "outputs": [],
   "source": [
    "'''\n",
    "In this question, we are to return the length of the longest consecutive sequence in an array of integers\n",
    "'''"
   ]
  },
  {
   "cell_type": "code",
   "execution_count": 2,
   "metadata": {},
   "outputs": [
    {
     "name": "stdout",
     "output_type": "stream",
     "text": [
      "4\n",
      "9\n"
     ]
    }
   ],
   "source": [
    "# First Approach: Sorting\n",
    "'''\n",
    "In this first approach, we sort the input so that the consecutive inputs are placed together\n",
    "\n",
    "Time Complexity\n",
    "Since the input has to be sorted, the time complexity becomes O(NlogN)\n",
    "\n",
    "Memory Complexity\n",
    "We are using a set here hence the O(N)\n",
    "'''\n",
    "\n",
    "# code\n",
    "def longestConsecutive(nums):\n",
    "    nums.sort()\n",
    "    seq = set(nums)\n",
    "    i, longest = 0, 0\n",
    "\n",
    "    while i < len(nums):\n",
    "        length = 0\n",
    "        while nums[i] + length in seq:\n",
    "            length += 1\n",
    "        longest = max(length, longest)\n",
    "        i += length\n",
    "\n",
    "    return longest\n",
    "\n",
    "# Test 1\n",
    "nums = [100, 4, 20, 1, 3, 2]\n",
    "print(longestConsecutive(nums))\n",
    "\n",
    "# Test 2\n",
    "nums = [0,3,7,2,5,8,4,6,0,1]\n",
    "print(longestConsecutive(nums))"
   ]
  },
  {
   "cell_type": "code",
   "execution_count": 4,
   "metadata": {},
   "outputs": [
    {
     "name": "stdout",
     "output_type": "stream",
     "text": [
      "4\n",
      "9\n"
     ]
    }
   ],
   "source": [
    "# Second Approach: Count Sequences\n",
    "'''\n",
    "In this case, we make some conclusions:\n",
    "1. An integer is the start of a sequence if it has no element before it\n",
    "2. An integer is the end of a sequence if it has no element after it\n",
    "\n",
    "Input: [100, 4, 200, 1, 3, 2]\n",
    "\n",
    "Solution\n",
    "\n",
    "1-2-3-4-------------------100------------------------200\n",
    "^ start of seq             ^                          ^\n",
    "\n",
    "The longest sequence here is 4 that starts at 1 and ends at 4\n",
    "\n",
    "Time Complexity\n",
    "O(N) - iterates through the input only ones\n",
    "\n",
    "Memory Complexity\n",
    "O(N) - for set storing sequences\n",
    "'''\n",
    "\n",
    "# code\n",
    "def longestConsecutive(nums):\n",
    "    numSet = set(nums)\n",
    "    longest = 0\n",
    "\n",
    "    for n in nums:\n",
    "        # check if its the start of a sequence\n",
    "        if (n - 1) not in numSet:\n",
    "            length = 0\n",
    "            while (n + length) in numSet:\n",
    "                length += 1\n",
    "            longest = max(length, longest)\n",
    "    return longest\n",
    "\n",
    "# Test 1\n",
    "nums = [100, 4, 20, 1, 3, 2]\n",
    "print(longestConsecutive(nums))\n",
    "\n",
    "# Test 2\n",
    "nums = [0,3,7,2,5,8,4,6,0,1]\n",
    "print(longestConsecutive(nums))"
   ]
  }
 ],
 "metadata": {
  "kernelspec": {
   "display_name": "Python 3",
   "language": "python",
   "name": "python3"
  },
  "language_info": {
   "codemirror_mode": {
    "name": "ipython",
    "version": 3
   },
   "file_extension": ".py",
   "mimetype": "text/x-python",
   "name": "python",
   "nbconvert_exporter": "python",
   "pygments_lexer": "ipython3",
   "version": "3.10.6"
  },
  "orig_nbformat": 4
 },
 "nbformat": 4,
 "nbformat_minor": 2
}
