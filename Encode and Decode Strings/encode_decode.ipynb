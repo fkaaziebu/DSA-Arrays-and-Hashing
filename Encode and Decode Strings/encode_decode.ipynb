{
 "cells": [
  {
   "cell_type": "code",
   "execution_count": null,
   "metadata": {},
   "outputs": [],
   "source": [
    "'''\n",
    "We are given a list of strings and we are told to write a function to encode the string as well as a function\n",
    "to decode the string\n",
    "\n",
    "In the Encoding function, we return the encoded string which we use a unique delimiter.\n",
    "In the decoding function, we undo the encoding\n",
    "'''"
   ]
  },
  {
   "cell_type": "code",
   "execution_count": 1,
   "metadata": {},
   "outputs": [
    {
     "name": "stdout",
     "output_type": "stream",
     "text": [
      "4#neet4#code\n",
      "4#neet5#c#ode\n"
     ]
    }
   ],
   "source": [
    "# Encoding Function\n",
    "'''\n",
    "Input = [\"neet\", \"code\"]\n",
    "\n",
    "Solution\n",
    "1. We will use the length of the string as well as a delimiter(#) since it is not guaranteed that the input cannot\n",
    "contain the delimiter.\n",
    "\n",
    "2. str(len(\"neet\")) + \"#\" + \"neet\"\n",
    "'''\n",
    "\n",
    "# code\n",
    "def encode(strs):\n",
    "    res = \"\"\n",
    "\n",
    "    for s in strs:\n",
    "        res += str(len(s)) + \"#\" + s\n",
    "    \n",
    "    return res\n",
    "\n",
    "\n",
    "# Test 1\n",
    "strs = [\"neet\", \"code\"]\n",
    "print(encode(strs))\n",
    "\n",
    "# Test 2\n",
    "strs = [\"neet\", \"c#ode\"]\n",
    "print(encode(strs))"
   ]
  },
  {
   "cell_type": "code",
   "execution_count": 2,
   "metadata": {},
   "outputs": [
    {
     "name": "stdout",
     "output_type": "stream",
     "text": [
      "['neet', 'code']\n",
      "['neet', 'c#ode']\n"
     ]
    }
   ],
   "source": [
    "# Decoding function\n",
    "'''\n",
    "Input = 4#neet4#code\n",
    "\n",
    "Solution\n",
    "1. Must have an idea of the delimiter used for the decoding.\n",
    "2. Anytime the delimiter is seen, the length must be checked and then the string placed in a result array\n",
    "'''\n",
    "\n",
    "# code\n",
    "def decode(strs):\n",
    "    res, i = [], 0\n",
    "\n",
    "    while i < len(strs):\n",
    "        j = i\n",
    "        while strs[j] != \"#\":\n",
    "            j += 1\n",
    "        length = int(strs[i : j])\n",
    "        res.append(strs[j + 1 : j + 1 + length])\n",
    "        i = j + 1 + length\n",
    "    \n",
    "    return res\n",
    "\n",
    "# Test 1\n",
    "strs = \"4#neet4#code\"\n",
    "print(decode(strs))\n",
    "\n",
    "# Test 2\n",
    "strs = \"4#neet5#c#ode\"\n",
    "print(decode(strs))"
   ]
  }
 ],
 "metadata": {
  "kernelspec": {
   "display_name": "Python 3",
   "language": "python",
   "name": "python3"
  },
  "language_info": {
   "codemirror_mode": {
    "name": "ipython",
    "version": 3
   },
   "file_extension": ".py",
   "mimetype": "text/x-python",
   "name": "python",
   "nbconvert_exporter": "python",
   "pygments_lexer": "ipython3",
   "version": "3.10.6"
  },
  "orig_nbformat": 4
 },
 "nbformat": 4,
 "nbformat_minor": 2
}
