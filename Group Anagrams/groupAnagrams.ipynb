{
 "cells": [
  {
   "cell_type": "code",
   "execution_count": null,
   "metadata": {},
   "outputs": [],
   "source": [
    "'''\n",
    "strs is an array of strings, of which some are anagrams. The anagrams are to be grouped together\n",
    "and returned as an array\n",
    "'''"
   ]
  },
  {
   "cell_type": "code",
   "execution_count": 9,
   "metadata": {},
   "outputs": [
    {
     "name": "stdout",
     "output_type": "stream",
     "text": [
      "dict_values([['eat', 'tea', 'ate'], ['tan', 'nat'], ['bat']])\n",
      "dict_values([['']])\n",
      "dict_values([['a']])\n"
     ]
    }
   ],
   "source": [
    "# First Approach: Sorting\n",
    "'''\n",
    "In this first approach, each string in the string array can be sorted and then grouped with its anagrams.\n",
    "For each string, we are going to sort it and then compare it with the sorted versions of the other strings\n",
    "\n",
    "Input: ['eat', 'tea', 'tan', 'ate', 'nat', 'bat']\n",
    "\n",
    "Solution:\n",
    "1. Sort input\n",
    "2. Add to hashmap with key as the sorted value and values of an array of the anagrams\n",
    "3. return the array of values of the hashmap\n",
    "\n",
    "Time Complexity\n",
    "It takes O(N) for a one pass through the array but O(MlogM) for sorting of each string in the array, hence the \n",
    "overall time complexity is O(M*NlogM)\n",
    "\n",
    "Memory Complexity\n",
    "Since we are storing each string in a hashmap, this will take O(N)\n",
    "'''\n",
    "\n",
    "# code\n",
    "from collections import defaultdict\n",
    "def groupAnagrams(strs):\n",
    "    hashmap = defaultdict(list) # key -> sorted val : value -> List[anagrams]\n",
    "\n",
    "    for s in strs:\n",
    "        hashmap[tuple(sorted(s))].append(s)\n",
    "    \n",
    "    return hashmap.values()\n",
    "\n",
    "# Test 1\n",
    "strs = [\"eat\",\"tea\",\"tan\",\"ate\",\"nat\",\"bat\"]\n",
    "print(groupAnagrams(strs))\n",
    "\n",
    "# Test 2\n",
    "strs = [\"\"]\n",
    "print(groupAnagrams(strs))\n",
    "\n",
    "# Test 3\n",
    "strs = [\"a\"]\n",
    "print(groupAnagrams(strs))"
   ]
  },
  {
   "cell_type": "code",
   "execution_count": 11,
   "metadata": {},
   "outputs": [
    {
     "name": "stdout",
     "output_type": "stream",
     "text": [
      "dict_values([['eat', 'tea', 'ate'], ['tan', 'nat'], ['bat']])\n",
      "dict_values([['']])\n",
      "dict_values([['a']])\n"
     ]
    }
   ],
   "source": [
    "# Second Approach: Only Using a hashmap and ASCII 26 small characters\n",
    "'''\n",
    "So in this case the keys for the hashmap will be how many ascii characters are present in the string.\n",
    "We will use a list to do the count and convert it to a tuple for the key since list is mutable.\n",
    "\n",
    "Input: ['eat', 'tea', 'tan', 'ate', 'nat', 'bat']\n",
    "\n",
    "Solution:\n",
    "1. Picking each string, we update a list of 26 values, initially set to 0\n",
    "2. Starting with 'eat':\n",
    "list = [0] * 26\n",
    "list[ord(each char in string) - ord(\"a\")] - Zero based indexing\n",
    "We want to make the list unique by updating number of characters in the string corresponding to\n",
    "a position in the list\n",
    "\n",
    "Time Complexity\n",
    "It takes O(26) for the creating of the list for the key and O(N) for iterating through the list and \n",
    "for each string, it takes O(M) for using it to create a unique key.\n",
    "The overall time complexity then becomes O(26 * M * N) ~ O(M * N)\n",
    "'''\n",
    "\n",
    "# code\n",
    "from collections import defaultdict\n",
    "def groupAnagrams(strs):\n",
    "    hashmap = defaultdict(list)\n",
    "\n",
    "    for s in strs:\n",
    "        key = [0] * 26\n",
    "\n",
    "        for c in s:\n",
    "            key[ord(c) - ord(\"a\")] += 1\n",
    "        \n",
    "        hashmap[tuple(key)].append(s)\n",
    "    return hashmap.values()\n",
    "    \n",
    "# Test 1\n",
    "strs = [\"eat\",\"tea\",\"tan\",\"ate\",\"nat\",\"bat\"]\n",
    "print(groupAnagrams(strs))\n",
    "\n",
    "# Test 2\n",
    "strs = [\"\"]\n",
    "print(groupAnagrams(strs))\n",
    "\n",
    "# Test 3\n",
    "strs = [\"a\"]\n",
    "print(groupAnagrams(strs))"
   ]
  }
 ],
 "metadata": {
  "kernelspec": {
   "display_name": "Python 3",
   "language": "python",
   "name": "python3"
  },
  "language_info": {
   "codemirror_mode": {
    "name": "ipython",
    "version": 3
   },
   "file_extension": ".py",
   "mimetype": "text/x-python",
   "name": "python",
   "nbconvert_exporter": "python",
   "pygments_lexer": "ipython3",
   "version": "3.10.6"
  },
  "orig_nbformat": 4
 },
 "nbformat": 4,
 "nbformat_minor": 2
}
