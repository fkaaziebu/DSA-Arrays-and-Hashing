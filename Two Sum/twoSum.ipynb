{
 "cells": [
  {
   "cell_type": "code",
   "execution_count": null,
   "metadata": {},
   "outputs": [],
   "source": [
    "'''\n",
    "In this problem, we have been given an array of integers and a target integer. We are supposed to\n",
    "return the indices of the two numbers that sum up to the target value\n",
    "'''"
   ]
  },
  {
   "cell_type": "code",
   "execution_count": 19,
   "metadata": {},
   "outputs": [
    {
     "name": "stdout",
     "output_type": "stream",
     "text": [
      "[0, 1]\n",
      "[1, 2]\n",
      "[0, 1]\n"
     ]
    }
   ],
   "source": [
    "# Brute Force Approach\n",
    "'''\n",
    "In this approach, you check for every combination of each number in the array to find out if any of them will\n",
    "sum up to the target array.\n",
    "\n",
    "Input: [2, 1, 5, 3], target = 4\n",
    "\n",
    "Solution\n",
    "1.  [2, 1, 5,  3], 2 multiplies the rest\n",
    "        |  |   |\n",
    "    [_, 2, 10, 6]\n",
    "\n",
    "2.  [2, 1, 5, 3], 1 multiplies the rest\n",
    "     |     |  |\n",
    "    [2, _, 5, 3]\n",
    "\n",
    "3. [2,  1, 5, 3], 5 multiplies the rest\n",
    "    |   |     |\n",
    "   [10, 5, _, 15]\n",
    "\n",
    "Time Complexity\n",
    "O(N^2) since for each value in the array, we have to combine it with every other value in the array\n",
    "\n",
    "Memory Complexity\n",
    "Constant Time\n",
    "'''\n",
    "\n",
    "# code\n",
    "def twoSum(nums, target):\n",
    "    for i in range(len(nums)):\n",
    "        for j in range(i + 1, len(nums)):\n",
    "            if nums[i] + nums[j] == target:\n",
    "                return [i, j]\n",
    "\n",
    "# Test 1\n",
    "nums = [2, 7, 11, 15]\n",
    "target = 9\n",
    "print(twoSum(nums, target))\n",
    "\n",
    "# Test 2\n",
    "nums = [3,2,4]\n",
    "target = 6\n",
    "print(twoSum(nums, target))\n",
    "\n",
    "#Test 3\n",
    "nums = [3,3]\n",
    "target = 6\n",
    "print(twoSum(nums, target))\n"
   ]
  },
  {
   "cell_type": "code",
   "execution_count": 20,
   "metadata": {},
   "outputs": [
    {
     "name": "stdout",
     "output_type": "stream",
     "text": [
      "[0, 1]\n",
      "[1, 2]\n",
      "[0, 1]\n"
     ]
    }
   ],
   "source": [
    "# Second Approach: Using a hashmap\n",
    "'''\n",
    "Using a hashmap, we can keep track of the values we have already seen along with their index.\n",
    "In case the difference between the target and the value considered is in this hashmap, then we have \n",
    "found the two values and hence can return their indices\n",
    "\n",
    "Input: [2, 1, 5, 3], target = 4\n",
    "\n",
    "Solution\n",
    "1. create a hashmap which is empty initialy\n",
    "    hashmap = dict()\n",
    "\n",
    "2. [2, 1, 5, 3], If the difference between the target and two not in hashmap we add it to the hashmap\n",
    "    ^\n",
    "    4 - 2 not in hashmap -> {2 : 0}\n",
    "\n",
    "   [2, 1, 5, 3]\n",
    "       ^\n",
    "   4 - 1 not in hashmap -> {2 : 0, 1 : 1}\n",
    "\n",
    "   [2, 1, 5, 3]\n",
    "          ^\n",
    "    4 - 5 not in hashmap -> {2 : 0, 1 : 1, 5 : 2}\n",
    "\n",
    "   [2, 1, 5, 3]\n",
    "             ^\n",
    "    4 - 3 in hashmap [indexof1 in hashmap, index of 3]\n",
    "\n",
    "Time Complexity\n",
    "O(N) since we have to go through the array in one pass\n",
    "\n",
    "Memory Complexity\n",
    "Also O(N) since we have an array with a maximum size of the size of the input\n",
    "'''\n",
    "\n",
    "# code\n",
    "def twoSum(nums, target):\n",
    "    hashmap = dict()\n",
    "\n",
    "    for i, num in enumerate(nums):\n",
    "        diff = target - num\n",
    "        if diff in hashmap:\n",
    "            return [hashmap[diff], i]\n",
    "        hashmap[num] = i\n",
    "\n",
    "# Test 1\n",
    "nums = [2, 7, 11, 15]\n",
    "target = 9\n",
    "print(twoSum(nums, target))\n",
    "\n",
    "# Test 2\n",
    "nums = [3,2,4]\n",
    "target = 6\n",
    "print(twoSum(nums, target))\n",
    "\n",
    "#Test 3\n",
    "nums = [3,3]\n",
    "target = 6\n",
    "print(twoSum(nums, target))"
   ]
  }
 ],
 "metadata": {
  "kernelspec": {
   "display_name": "Python 3",
   "language": "python",
   "name": "python3"
  },
  "language_info": {
   "codemirror_mode": {
    "name": "ipython",
    "version": 3
   },
   "file_extension": ".py",
   "mimetype": "text/x-python",
   "name": "python",
   "nbconvert_exporter": "python",
   "pygments_lexer": "ipython3",
   "version": "3.10.6"
  },
  "orig_nbformat": 4
 },
 "nbformat": 4,
 "nbformat_minor": 2
}
