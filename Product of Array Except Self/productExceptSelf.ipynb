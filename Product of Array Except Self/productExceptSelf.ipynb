{
 "cells": [
  {
   "cell_type": "code",
   "execution_count": null,
   "metadata": {},
   "outputs": [],
   "source": [
    "'''\n",
    "In this question, we are presented with an array and asked to find the product of the array except a particular\n",
    "specified value in nums. We return an array of each product except the number that index\n",
    "'''"
   ]
  },
  {
   "cell_type": "code",
   "execution_count": 3,
   "metadata": {},
   "outputs": [
    {
     "name": "stdout",
     "output_type": "stream",
     "text": [
      "[24, 12, 8, 6]\n"
     ]
    }
   ],
   "source": [
    "# First Approach: Division Operator\n",
    "'''\n",
    "This approach uses the division operator, where to exclude and element, we find the product of every element in the\n",
    "array and divide it by the element we want to exclude.\n",
    "\n",
    "This only works for values with no zeros in them because division by zero will be invalid\n",
    "\n",
    "Input: [1, 2, 3, 4]\n",
    "\n",
    "Solution\n",
    "1. Find the product of every element in the input\n",
    "2. For the results, we divide the product by the value to exclude and we place it at the same index for the results\n",
    "\n",
    "Time Complexity\n",
    "O(N) we iterate through the array just once\n",
    "\n",
    "Memory Complexity\n",
    "O(1) no extra space used\n",
    "'''\n",
    "\n",
    "#code\n",
    "def productExceptSelf(nums):\n",
    "    product = 1\n",
    "    for n in nums:\n",
    "        product *= n\n",
    "    \n",
    "    res = [0] * len(nums)\n",
    "    for i in range(len(nums)):\n",
    "        res[i] = product // nums[i]\n",
    "    \n",
    "    return res\n",
    "\n",
    "# Test 1\n",
    "nums = [1,2,3,4]\n",
    "print(productExceptSelf(nums))\n",
    "\n",
    "# Test 2 -> This test will fail because of division by zero\n",
    "# nums = [-1,1,0,-3,3]\n",
    "# print(productExceptSelf(nums))"
   ]
  },
  {
   "cell_type": "code",
   "execution_count": 4,
   "metadata": {},
   "outputs": [
    {
     "name": "stdout",
     "output_type": "stream",
     "text": [
      "[24, 12, 8, 6]\n",
      "[0, 0, 9, 0, 0]\n"
     ]
    }
   ],
   "source": [
    "# Second Approach (Prefix & Postfix)\n",
    "'''\n",
    "Prefix and postfix arrays are used to hold the products except a value\n",
    "\n",
    "Input: [1, 2, 3, 4]\n",
    "\n",
    "Solution\n",
    "1. For prefix, input is assumed to have started with a 1\n",
    "    1 [1, 2, 3, 4]\n",
    "    prefix = [1, 1, 2, 6]\n",
    "\n",
    "2. For postfix, input is assumed to have an ending with a 1\n",
    "    [1, 2, 3, 4] 1\n",
    "    postfix = [24, 12, 4, 1]\n",
    "\n",
    "3. Now multiply the corresponding indices of the prefix postfix arrays to get the product except the number at that\n",
    "index\n",
    "\n",
    "Time Complexity\n",
    "O(N) - for creating prefix array & O(N) - for creating postfix array. Overall the time complexity becomes O(N)\n",
    "\n",
    "Memory Complexity\n",
    "O(N) memory used for the creation of the prefix postfix arrays\n",
    "'''\n",
    "\n",
    "# code\n",
    "def productExceptSelf(nums):\n",
    "    prefix = [1] * len(nums)\n",
    "    postfix = [1] * len(nums)\n",
    "\n",
    "    pre = 1\n",
    "    for i in range(len(nums)):\n",
    "        prefix[i] = pre\n",
    "        pre *= nums[i]\n",
    "\n",
    "    post = 1\n",
    "    for i in range(len(nums) - 1, -1, -1):\n",
    "        postfix[i] = post\n",
    "        post *= nums[i]\n",
    "\n",
    "    res = [0] * len(nums)\n",
    "    for i in range(len(nums)):\n",
    "        res[i] = prefix[i] * postfix[i]\n",
    "    \n",
    "    return res\n",
    "\n",
    "# Test 1\n",
    "nums = [1,2,3,4]\n",
    "print(productExceptSelf(nums))\n",
    "\n",
    "# Test 2\n",
    "nums = [-1,1,0,-3,3]\n",
    "print(productExceptSelf(nums))"
   ]
  },
  {
   "cell_type": "code",
   "execution_count": 6,
   "metadata": {},
   "outputs": [
    {
     "name": "stdout",
     "output_type": "stream",
     "text": [
      "[24, 12, 8, 6]\n",
      "[0, 0, 9, 0, 0]\n"
     ]
    }
   ],
   "source": [
    "# Third Approach: (Prefix & Postfix in-place)\n",
    "'''\n",
    "Same idea from above but does everything in place of the result variable\n",
    "\n",
    "Time Complexity\n",
    "O(N) - one pass through the input\n",
    "\n",
    "Memory Complexity\n",
    "O(1) - no memory required. In-place modification of results\n",
    "'''\n",
    "\n",
    "# code\n",
    "def productExceptSelf(nums):\n",
    "    res = [1] * len(nums)\n",
    "\n",
    "    pre = 1\n",
    "    for i in range(len(nums)):\n",
    "        res[i] = pre\n",
    "        pre *= nums[i]\n",
    "\n",
    "    post = 1\n",
    "    for i in range(len(nums) - 1, -1, -1):\n",
    "        res[i] *= post\n",
    "        post *= nums[i]\n",
    "    \n",
    "    return res\n",
    "\n",
    "# Test 1\n",
    "nums = [1,2,3,4]\n",
    "print(productExceptSelf(nums))\n",
    "\n",
    "# Test 2\n",
    "nums = [-1,1,0,-3,3]\n",
    "print(productExceptSelf(nums))"
   ]
  }
 ],
 "metadata": {
  "kernelspec": {
   "display_name": "Python 3",
   "language": "python",
   "name": "python3"
  },
  "language_info": {
   "codemirror_mode": {
    "name": "ipython",
    "version": 3
   },
   "file_extension": ".py",
   "mimetype": "text/x-python",
   "name": "python",
   "nbconvert_exporter": "python",
   "pygments_lexer": "ipython3",
   "version": "3.10.6"
  },
  "orig_nbformat": 4
 },
 "nbformat": 4,
 "nbformat_minor": 2
}
