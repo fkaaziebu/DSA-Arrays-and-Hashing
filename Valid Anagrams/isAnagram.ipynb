{
 "cells": [
  {
   "cell_type": "code",
   "execution_count": null,
   "metadata": {},
   "outputs": [],
   "source": [
    "'''\n",
    "In this particular question, two strings are given and you are supposed to tell whether or not they are anagrams.\n",
    "Return a boolean\n",
    "\n",
    "An Anagram is a word or phrase formed by rearranging the letters of a different word or phrase, \n",
    "typically using all the original letters exactly once.\n",
    "'''"
   ]
  },
  {
   "cell_type": "code",
   "execution_count": 9,
   "metadata": {},
   "outputs": [
    {
     "name": "stdout",
     "output_type": "stream",
     "text": [
      "True\n",
      "False\n"
     ]
    }
   ],
   "source": [
    "# First Approach: Using a Hashmap to count occurences of characters in each string\n",
    "'''\n",
    "Input: s = \"anagram\", t = \"nagaram\"\n",
    "\n",
    "Solution\n",
    "1. Two strings can only be hashmaps if the have the same length\n",
    "\n",
    "2. Create two hashmaps to count character occurences in each string\n",
    "\n",
    "Hashmap for s               Hashmap for t\n",
    "a   |   3        ->         a   |   3\n",
    "n   |   1        ->         n   |   1\n",
    "g   |   1        ->         g   |   1\n",
    "r   |   1        ->         r   |   1\n",
    "m   |   1        ->         m   |   1\n",
    "\n",
    "3. Compare both hashmaps by comparing the count of every value in both. If they match return True else False\n",
    "\n",
    "Time Complexity\n",
    "Since we are going through each string, the time complexity will be O(S + T)\n",
    "\n",
    "Memory Complexity\n",
    "This is also O(S + T) since we are storing the characters and their counts of the two strings in a hashmap\n",
    "'''\n",
    "def isAnagram(s, t):\n",
    "    if len(s) != len(t):\n",
    "        return False\n",
    "    countS, countT = dict(), dict()\n",
    "    for i in range(len(s)):\n",
    "        countS[s[i]] = countS.setdefault(s[i], 0) + 1\n",
    "        countT[t[i]] = countT.setdefault(t[i], 0) + 1\n",
    "    \n",
    "    for c in countS:\n",
    "        if countS[c] != countT.get(c, 0):\n",
    "            return False\n",
    "    return True\n",
    "\n",
    "# Test 1\n",
    "s = \"anagram\"\n",
    "t = \"nagaram\"\n",
    "print(isAnagram(s, t))\n",
    "\n",
    "# Test 2\n",
    "s = \"rat\"\n",
    "t = \"car\"\n",
    "print(isAnagram(s, t))\n"
   ]
  },
  {
   "cell_type": "code",
   "execution_count": 15,
   "metadata": {},
   "outputs": [
    {
     "name": "stdout",
     "output_type": "stream",
     "text": [
      "True\n",
      "False\n"
     ]
    }
   ],
   "source": [
    "# Second Approach: Uses python built-in counter function\n",
    "'''\n",
    "So Counter function is just a hashmap but also has an added functionality of automatically counting the items\n",
    "in it.\n",
    "\n",
    "Input: s = \"anagram\", t = \"nagaram\"\n",
    "\n",
    "Solution\n",
    "1. Count the character occurences in s using the Counter function\n",
    "2. Count the character occurences in t using the Counter function\n",
    "3. Find out if they are equal\n",
    "\n",
    "Time Complexity\n",
    "O(S + T)\n",
    "\n",
    "Memory Complexity\n",
    "O(S + t)\n",
    "'''\n",
    "\n",
    "# code\n",
    "from collections import Counter\n",
    "def isAnagram(s, t):\n",
    "    return Counter(s) == Counter(t)\n",
    "\n",
    "# Test 1\n",
    "s = \"anagram\"\n",
    "t = \"nagaram\"\n",
    "print(isAnagram(s, t))\n",
    "\n",
    "# Test 2\n",
    "s = \"rat\"\n",
    "t = \"car\"\n",
    "print(isAnagram(s, t))"
   ]
  },
  {
   "cell_type": "code",
   "execution_count": 16,
   "metadata": {},
   "outputs": [
    {
     "name": "stdout",
     "output_type": "stream",
     "text": [
      "True\n",
      "False\n"
     ]
    }
   ],
   "source": [
    "# Third Approach: Using sorting\n",
    "'''\n",
    "If the inputs are sorted, then they will be equal to each other if they are anagrams\n",
    "\n",
    "Input: s = \"anagram\", t = \"nagaram\"\n",
    "\n",
    "Solution\n",
    "1. Use the sorted function to sort both strings\n",
    "2. return True if both are equal when compared together else False\n",
    "\n",
    "Time Complexity\n",
    "Because we are sorting, that will be O(NlogN) for both of the strings\n",
    "\n",
    "Memory complexity\n",
    "It can be O(1) depending on the sorting algorithm\n",
    "'''\n",
    "\n",
    "# code\n",
    "def isAnagram(s, t):\n",
    "    return sorted(s) == sorted(t)\n",
    "\n",
    "# Test 1\n",
    "s = \"anagram\"\n",
    "t = \"nagaram\"\n",
    "print(isAnagram(s, t))\n",
    "\n",
    "# Test 2\n",
    "s = \"rat\"\n",
    "t = \"car\"\n",
    "print(isAnagram(s, t))"
   ]
  }
 ],
 "metadata": {
  "kernelspec": {
   "display_name": "Python 3",
   "language": "python",
   "name": "python3"
  },
  "language_info": {
   "codemirror_mode": {
    "name": "ipython",
    "version": 3
   },
   "file_extension": ".py",
   "mimetype": "text/x-python",
   "name": "python",
   "nbconvert_exporter": "python",
   "pygments_lexer": "ipython3",
   "version": "3.10.6"
  },
  "orig_nbformat": 4
 },
 "nbformat": 4,
 "nbformat_minor": 2
}
